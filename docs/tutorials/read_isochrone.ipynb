{
 "cells": [
  {
   "cell_type": "markdown",
   "id": "786a15a7",
   "metadata": {},
   "source": [
    "# Working with evolutionary models"
   ]
  },
  {
   "cell_type": "markdown",
   "id": "7f6f8c20",
   "metadata": {},
   "source": [
    "In this tutorial, we will work with evolutionary data and extract an isochrone and cooling curve by interpolating the data at a fixed age and mass, respectively."
   ]
  },
  {
   "cell_type": "markdown",
   "id": "7c39c859",
   "metadata": {},
   "source": [
    "## Getting started"
   ]
  },
  {
   "cell_type": "markdown",
   "id": "07cb85e8",
   "metadata": {},
   "source": [
    "We start by importing `matplotlib`, `numpy`, and `species`."
   ]
  },
  {
   "cell_type": "code",
   "execution_count": 1,
   "id": "43b25e77",
   "metadata": {},
   "outputs": [],
   "source": [
    "import matplotlib.pyplot as plt\n",
    "import numpy as np\n",
    "import species"
   ]
  },
  {
   "cell_type": "markdown",
   "id": "5399ca03",
   "metadata": {},
   "source": [
    "Next, we initiate the workflow by calling the [SpeciesInit](https://species.readthedocs.io/en/latest/species.core.html#species.core.init.SpeciesInit) class. This will create both the [HDF5 database](https://species.readthedocs.io/en/latest/database.html) and the [configuration file](https://species.readthedocs.io/en/latest/configuration.html) in the working folder."
   ]
  },
  {
   "cell_type": "code",
   "execution_count": 2,
   "id": "2ca7f0dc",
   "metadata": {},
   "outputs": [
    {
     "name": "stdout",
     "output_type": "stream",
     "text": [
      "Initiating species v0.5.5... [DONE]\n",
      "Creating species_config.ini... [DONE]\n",
      "Database: /Users/tomasstolker/applications/species/docs/tutorials/species_database.hdf5\n",
      "Data folder: /Users/tomasstolker/applications/species/docs/tutorials/data\n",
      "Working folder: /Users/tomasstolker/applications/species/docs/tutorials\n",
      "Grid interpolation method: linear\n",
      "Creating species_database.hdf5... [DONE]\n",
      "Creating data folder... [DONE]\n"
     ]
    },
    {
     "data": {
      "text/plain": [
       "<species.core.init.SpeciesInit at 0x152c39f90>"
      ]
     },
     "execution_count": 2,
     "metadata": {},
     "output_type": "execute_result"
    }
   ],
   "source": [
    "species.SpeciesInit()"
   ]
  },
  {
   "cell_type": "markdown",
   "id": "27baf0a5",
   "metadata": {},
   "source": [
    "Now we will create and instance of [Database](https://species.readthedocs.io/en/latest/species.data.html#species.data.database.Database) that will provide read and write access to the [HDF5 database](https://species.readthedocs.io/en/latest/database.html) where all the data will be stored."
   ]
  },
  {
   "cell_type": "code",
   "execution_count": 3,
   "id": "55f1dde9",
   "metadata": {},
   "outputs": [],
   "source": [
    "database = species.Database()"
   ]
  },
  {
   "cell_type": "markdown",
   "id": "372ce40d",
   "metadata": {},
   "source": [
    "There are several evolutionary models supported by `species`. In this example, we will use the *AMES-Cond* models that can be added with the [add_isochrones](https://species.readthedocs.io/en/latest/species.data.html#species.data.database.Database.add_isochrones) method of [Database](https://species.readthedocs.io/en/latest/species.data.html#species.data.database.Database). See the documentation of this method for a description of all the parameters and a list of other evolutionary models that can be used. By using `model='ames'`, it will download and add both the *AMES-Cond* and *AMES-Dusty* isochrones, including the magnitudes in the MKO filter system. For magnitudes from other filters, it is possible to use any of the isochrone files from [https://phoenix.ens-lyon.fr/Grids/](https://phoenix.ens-lyon.fr/Grids/) and add these to the database by setting `model='manual'`."
   ]
  },
  {
   "cell_type": "code",
   "execution_count": 4,
   "id": "f075e9fa",
   "metadata": {},
   "outputs": [
    {
     "name": "stdout",
     "output_type": "stream",
     "text": [
      "Downloading AMES-Cond isochrones (235 kB)... [DONE]\n",
      "Adding isochrones: ames-cond... [DONE]\n",
      "Database tag: ames-cond\n",
      "Downloading AMES-Dusty isochrones (182 kB)... [DONE]\n",
      "Adding isochrones: ames-dusty... [DONE]\n",
      "Database tag: ames-dusty\n"
     ]
    }
   ],
   "source": [
    "database.add_isochrones(model='ames')"
   ]
  },
  {
   "cell_type": "markdown",
   "id": "48276d5b",
   "metadata": {},
   "source": [
    "## Extracting an isochrone"
   ]
  },
  {
   "cell_type": "markdown",
   "id": "b7022cbb",
   "metadata": {},
   "source": [
    "We can now read the evolutionary data from the database by creating an instance of [ReadIsochrone](https://species.readthedocs.io/en/latest/species.read.html#species.read.read_isochrone.ReadIsochrone) and providing the `tag` by which the data was stored in the database with [add_isochrones](https://species.readthedocs.io/en/latest/species.data.html#species.data.database.Database.add_isochrones). We will use the *AMES-COND* isochrones which were calculated with a cloudless atmosphere as boundary condition of the interior structure."
   ]
  },
  {
   "cell_type": "code",
   "execution_count": 5,
   "id": "43d15882",
   "metadata": {},
   "outputs": [],
   "source": [
    "read_iso = species.ReadIsochrone(tag='ames-cond')"
   ]
  },
  {
   "cell_type": "markdown",
   "id": "fd859612",
   "metadata": {},
   "source": [
    "The [ReadIsochrone](https://species.readthedocs.io/en/latest/species.read.html#species.read.read_isochrone.ReadIsochrone) has several functionalities. There is a complete list of methods and parameters in the class documentation. For example, the [get_isochrone](https://species.readthedocs.io/en/latest/species.read.html#species.read.read_isochrone.ReadIsochrone.get_isochrone) can be used to interpolate the evolutionary data at a fixed age and a range of masses (i.e. an isochrones). We can also optionally interpolate the magnitudes and/or colors. For this, we need to provide the filter name as is provided in the original file with evolutionary data. When setting an incorrect value to `filter_color` or `filter_mag`, an error message will be printed with the available filter names."
   ]
  },
  {
   "cell_type": "code",
   "execution_count": 6,
   "id": "e8ac4020",
   "metadata": {},
   "outputs": [],
   "source": [
    "iso_box = read_iso.get_isochrone(age=50.,\n",
    "                                 masses=np.linspace(5., 50., 25),\n",
    "                                 filters_color=None,\n",
    "                                 filter_mag='H')"
   ]
  },
  {
   "cell_type": "markdown",
   "id": "9d002d27",
   "metadata": {},
   "source": [
    "The isochrone that is returned by [get_isochrone](https://species.readthedocs.io/en/latest/species.read.html#species.read.read_isochrone.ReadIsochrone.get_isochrone) is stored in an [IsochroneBox](https://species.readthedocs.io/en/latest/species.core.html#species.core.box.IsochroneBox). We can use the [open_box](https://species.readthedocs.io/en/latest/species.core.html#species.core.box.Box.open_box) method on any [Box](https://species.readthedocs.io/en/latest/species.core.html#species.core.box.Box) object to have a look at the content."
   ]
  },
  {
   "cell_type": "code",
   "execution_count": 7,
   "id": "965d539e",
   "metadata": {},
   "outputs": [
    {
     "name": "stdout",
     "output_type": "stream",
     "text": [
      "Opening IsochroneBox...\n",
      "model = ames-cond\n",
      "age = 50.0\n",
      "mass = [ 5.     6.875  8.75  10.625 12.5   14.375 16.25  18.125 20.    21.875\n",
      " 23.75  25.625 27.5   29.375 31.25  33.125 35.    36.875 38.75  40.625\n",
      " 42.5   44.375 46.25  48.125 50.   ]\n",
      "teff = [ 737.83769359  889.52951155 1036.45246604 1195.87737192 1508.20867285\n",
      " 1739.87929313 1903.61458756 1905.76242459 1907.91026162 1938.71493685\n",
      " 1999.03336001 2059.35178317 2119.67020633 2179.98862949 2240.30705265\n",
      " 2283.92985561 2325.81267762 2367.69549964 2409.57832165 2451.46114367\n",
      " 2489.75135954 2520.35803716 2550.96471479 2581.57139242 2612.17807004]\n",
      "log_lum = [-5.38313548 -5.05431799 -4.78767605 -4.53293343 -4.06756874 -3.77443326\n",
      " -3.57717019 -3.60222829 -3.62728639 -3.61090229 -3.55183677 -3.49277125\n",
      " -3.43370573 -3.37464021 -3.3155747  -3.27271852 -3.23155164 -3.19038477\n",
      " -3.14921789 -3.10805101 -3.0685949  -3.03279762 -2.99700033 -2.96120305\n",
      " -2.92540577]\n",
      "logg = [3.90956741 4.04939848 4.15763498 4.23071282 4.23966214 4.24574097\n",
      " 4.27048625 4.34208082 4.41367539 4.46146274 4.48473097 4.5079992\n",
      " 4.53126744 4.55453567 4.57780391 4.5897256  4.60046479 4.61120397\n",
      " 4.62194316 4.63268234 4.64114051 4.64472024 4.64829997 4.6518797\n",
      " 4.65545942]\n",
      "radius = [1.2305894  1.23169423 1.23230571 1.24607952 1.33120146 1.42194457\n",
      " 1.47355493 1.42698822 1.38042151 1.36370194 1.37772203 1.39174211\n",
      " 1.4057622  1.41978229 1.43380237 1.45145013 1.46947595 1.48750178\n",
      " 1.5055276  1.52355342 1.54429125 1.57082927 1.59736729 1.62390531\n",
      " 1.65044333]\n",
      "filter_mag = H\n",
      "magnitude = [16.00849832 15.08270799 14.30385387 13.56028694 12.24563169 11.4973235\n",
      " 10.99754006 11.06233314 11.12712623 11.08893104 10.94466799 10.80040493\n",
      " 10.65614188 10.51187883 10.36761577 10.27003562 10.17732065 10.08460569\n",
      "  9.99189072  9.89917576  9.81113688  9.73309881  9.65506073  9.57702265\n",
      "  9.49898457]\n",
      "filters_color = None\n",
      "color = None\n"
     ]
    }
   ],
   "source": [
    "iso_box.open_box()"
   ]
  },
  {
   "cell_type": "markdown",
   "id": "3385b981",
   "metadata": {},
   "source": [
    "The attributes from a [Box](https://species.readthedocs.io/en/latest/species.core.html#species.core.box.Box) can be simply extracted as a regular *Python* object. For example, to extract the age at which the isochrone was interpolated:"
   ]
  },
  {
   "cell_type": "code",
   "execution_count": 8,
   "id": "d20dd88a",
   "metadata": {},
   "outputs": [
    {
     "name": "stdout",
     "output_type": "stream",
     "text": [
      "50.0\n"
     ]
    }
   ],
   "source": [
    "print(iso_box.age)"
   ]
  },
  {
   "cell_type": "markdown",
   "id": "35783684",
   "metadata": {},
   "source": [
    "Lets create a plot of the bolometric luminosity as function of mass."
   ]
  },
  {
   "cell_type": "code",
   "execution_count": 9,
   "id": "97c132b8",
   "metadata": {},
   "outputs": [
    {
     "data": {
      "image/png": "[encoded data removed]",
      "text/plain": [
       "<Figure size 432x288 with 1 Axes>"
      ]
     },
     "metadata": {
      "needs_background": "light"
     },
     "output_type": "display_data"
    }
   ],
   "source": [
    "plt.plot(iso_box.mass, iso_box.log_lum, label=f'Age = {iso_box.age} Myr')\n",
    "plt.xlabel(r'Mass ($M_\\mathrm{J}$)', fontsize=14)\n",
    "plt.ylabel(r'$\\log(L/L_\\odot)$', fontsize=14)\n",
    "plt.legend(loc='lower right', fontsize=14)\n",
    "plt.show()"
   ]
  },
  {
   "cell_type": "markdown",
   "id": "65c4ab2e",
   "metadata": {},
   "source": [
    "## Extracting a cooling curve"
   ]
  },
  {
   "cell_type": "markdown",
   "id": "7c6d9faa",
   "metadata": {},
   "source": [
    "Similarly, we can extract a cooling curve with the [get_cooling_curve](https://species.readthedocs.io/en/latest/species.read.html#species.read.read_isochrone.ReadIsochrone.get_cooling_curve), which will interpolate the evolutionary data at a fixed mass and a range of ages. Instead of providing an `numpy` array with ages, we can also set the argument of `ages` to `None`. In that case it use the ages that are available in the original data."
   ]
  },
  {
   "cell_type": "code",
   "execution_count": 9,
   "id": "2e93e5de",
   "metadata": {},
   "outputs": [],
   "source": [
    "cooling_box = read_iso.get_cooling_curve(mass=10.,\n",
    "                                         ages=None,\n",
    "                                         filters_color=None,\n",
    "                                         filter_mag=None)"
   ]
  },
  {
   "cell_type": "markdown",
   "id": "a08d4f32",
   "metadata": {},
   "source": [
    "The cooling curve that is returned by [get_cooling_curve](https://species.readthedocs.io/en/latest/species.read.html#species.read.read_isochrone.ReadIsochrone.get_cooling_curve) is stored in an [CoolingBox](https://species.readthedocs.io/en/latest/species.core.html#species.core.box.CoolingBox). Lets have a look at the content by again using the [open_box](https://species.readthedocs.io/en/latest/species.core.html#species.core.box.Box.open_box) method."
   ]
  },
  {
   "cell_type": "code",
   "execution_count": 10,
   "id": "606c4fde",
   "metadata": {},
   "outputs": [
    {
     "name": "stdout",
     "output_type": "stream",
     "text": [
      "Opening CoolingBox...\n",
      "model = ames-cond\n",
      "mass = 10.0\n",
      "age = [1.0e+00 2.0e+00 3.0e+00 4.0e+00 5.0e+00 6.0e+00 7.0e+00 8.0e+00 9.0e+00\n",
      " 1.0e+01 2.0e+01 3.0e+01 4.0e+01 5.0e+01 6.0e+01 7.0e+01 8.0e+01 9.0e+01\n",
      " 1.0e+02 1.2e+02 1.5e+02 2.0e+02 3.0e+02 4.0e+02 5.0e+02 6.0e+02 7.0e+02\n",
      " 8.0e+02 9.0e+02 1.0e+03 2.0e+03 3.0e+03 4.0e+03 5.0e+03 6.0e+03 7.0e+03\n",
      " 8.0e+03 9.0e+03 1.0e+04 1.2e+04]\n",
      "teff = [2231.02146295 2147.934944   2067.30784846 1993.5835025  1928.67538718\n",
      " 1868.22669525 1817.31857993 1764.41046461 1726.41046461 1687.41046461\n",
      " 1438.95640695 1297.04292589 1199.95104121 1131.95104121 1081.22132952\n",
      " 1033.76727185  987.49161782  953.5835025   922.57813676  870.48625208\n",
      "  820.48625208  760.29711698  680.29711698  624.75117464  583.10798189\n",
      "  556.10798189  529.10798189  510.47015487  495.28638551  478.74044317\n",
      "  399.01073147  360.91884679  333.91884679  312.46478913  296.73507744\n",
      "  284.73507744  275.1891351   265.73507744  257.73507744  243.73507744]\n",
      "log_lum = [-2.76632461 -3.01632461 -3.18086519 -3.30540577 -3.40540577 -3.49994634\n",
      " -3.56994634 -3.64994634 -3.69994634 -3.75448692 -4.1290275  -4.3490275\n",
      " -4.5090275  -4.63356807 -4.72356807 -4.81356807 -4.90356807 -4.97356807\n",
      " -5.03448692 -5.1490275  -5.26356807 -5.40994634 -5.6190275  -5.7790275\n",
      " -5.90540577 -5.99540577 -6.08994634 -6.15540577 -6.21086519 -6.28086519\n",
      " -6.61086519 -6.80086519 -6.93994634 -7.05994634 -7.15632461 -7.23086519\n",
      " -7.29540577 -7.35540577 -7.41540577 -7.51540577]\n",
      "logg = [3.53       3.70545942 3.80091885 3.86545942 3.91091885 3.94637827\n",
      " 3.97091885 3.99637827 4.01637827 4.02637827 4.12183769 4.16183769\n",
      " 4.19183769 4.21183769 4.22183769 4.23183769 4.24729712 4.25183769\n",
      " 4.25729712 4.26729712 4.28183769 4.29729712 4.31729712 4.32729712\n",
      " 4.33729712 4.33729712 4.34729712 4.34729712 4.35729712 4.35729712\n",
      " 4.37729712 4.38729712 4.39729712 4.40729712 4.40729712 4.41275654\n",
      " 4.41729712 4.41729712 4.41729712 4.42729712]\n",
      "radius = [2.71187355 2.207285   1.97609687 1.84016031 1.74236827 1.67357208\n",
      " 1.62435851 1.57934121 1.54920365 1.52109997 1.36799273 1.3032643\n",
      " 1.26270032 1.23612392 1.21781154 1.20166156 1.18754546 1.17775415\n",
      " 1.16923308 1.15461039 1.13858893 1.11951291 1.09573403 1.08098281\n",
      " 1.07042786 1.06203532 1.05504153 1.0494465  1.04525022 1.04029031\n",
      " 1.01587631 1.00252384 0.99349618 0.98713751 0.98230612 0.97810984\n",
      " 0.97391357 0.97111605 0.96831854 0.96412226]\n",
      "filter_mag = None\n",
      "magnitude = None\n",
      "filters_color = None\n",
      "color = None\n"
     ]
    }
   ],
   "source": [
    "cooling_box.open_box()"
   ]
  },
  {
   "cell_type": "markdown",
   "id": "c034784f",
   "metadata": {},
   "source": [
    "Lets create a plot of the bolometric luminosity as function of time."
   ]
  },
  {
   "cell_type": "code",
   "execution_count": 12,
   "id": "2b12d931",
   "metadata": {},
   "outputs": [
    {
     "data": {
      "image/png": "[encoded data removed]",
      "text/plain": [
       "<Figure size 432x288 with 1 Axes>"
      ]
     },
     "metadata": {
      "needs_background": "light"
     },
     "output_type": "display_data"
    }
   ],
   "source": [
    "plt.plot(cooling_box.age, cooling_box.log_lum, label=f'Mass = {cooling_box.mass}'+r' $M_\\mathrm{J}$')\n",
    "plt.xlabel(r'Time (Myr)', fontsize=14)\n",
    "plt.ylabel(r'$\\log(L/L_\\odot)$', fontsize=14)\n",
    "plt.legend(loc='upper right', fontsize=14)\n",
    "plt.show()"
   ]
  }
 ],
 "metadata": {
  "kernelspec": {
   "display_name": "Python 3 (ipykernel)",
   "language": "python",
   "name": "python3"
  },
  "language_info": {
   "codemirror_mode": {
    "name": "ipython",
    "version": 3
   },
   "file_extension": ".py",
   "mimetype": "text/x-python",
   "name": "python",
   "nbconvert_exporter": "python",
   "pygments_lexer": "ipython3",
   "version": "3.10.0"
  }
 },
 "nbformat": 4,
 "nbformat_minor": 5
}
