{
 "cells": [
  {
   "cell_type": "markdown",
   "metadata": {},
   "source": [
    "# Color-magnitude diagram: broadband filters"
   ]
  },
  {
   "cell_type": "markdown",
   "metadata": {},
   "source": [
    "This tutorial shows how to create a color-magnitude diagram that includes data of field and young/low-gravity objects, synthetic photometry computed from isochrones and model spectra, and data of directly imaged objects."
   ]
  },
  {
   "cell_type": "markdown",
   "metadata": {},
   "source": [
    "## Initiating *species*"
   ]
  },
  {
   "cell_type": "markdown",
   "metadata": {},
   "source": [
    "We start by importing the required modules."
   ]
  },
  {
   "cell_type": "code",
   "execution_count": 1,
   "metadata": {},
   "outputs": [],
   "source": [
    "import numpy as np\n",
    "import species"
   ]
  },
  {
   "cell_type": "markdown",
   "metadata": {},
   "source": [
    "Next, we initiate the [species](https://species.readthedocs.io/en/latest/species.html) workflow and create an instance of [Database](https://species.readthedocs.io/en/latest/species.data.html#species.data.database.Database)."
   ]
  },
  {
   "cell_type": "code",
   "execution_count": 2,
   "metadata": {},
   "outputs": [
    {
     "name": "stdout",
     "output_type": "stream",
     "text": [
      "Initiating species v0.5.1... [DONE]\n",
      "Creating species_config.ini... [DONE]\n",
      "Database: /Users/tomasstolker/applications/species/docs/tutorials/species_database.hdf5\n",
      "Data folder: /Users/tomasstolker/applications/species/docs/tutorials/data\n",
      "Working folder: /Users/tomasstolker/applications/species/docs/tutorials\n",
      "Creating species_database.hdf5... [DONE]\n",
      "Creating data folder... [DONE]\n"
     ]
    }
   ],
   "source": [
    "species.SpeciesInit()\n",
    "database = species.Database()"
   ]
  },
  {
   "cell_type": "markdown",
   "metadata": {},
   "source": [
    "## Adding data to the database"
   ]
  },
  {
   "cell_type": "markdown",
   "metadata": {},
   "source": [
    "Available magnitudes and spectra of directly imaged planets and brown dwarfs are added to the database with [add_companion](https://species.readthedocs.io/en/latest/species.data.html#species.data.database.Database.add_companion) by setting `name=None`. These data are extracted from the [companion_data](https://github.com/tomasstolker/species/blob/master/species/data/companion_data.json) and [companion_spectra](https://github.com/tomasstolker/species/blob/master/species/data/companion_spectra.json) files in the [data](https://species.readthedocs.io/en/latest/species.data.html) subpackage."
   ]
  },
  {
   "cell_type": "code",
   "execution_count": 3,
   "metadata": {},
   "outputs": [
    {
     "name": "stdout",
     "output_type": "stream",
     "text": [
      "Downloading Vega spectrum (270 kB)... [DONE]\n",
      "Adding Vega spectrum... [DONE]\n",
      "Adding object: beta Pic b [DONE]\n"
     ]
    },
    {
     "name": "stderr",
     "output_type": "stream",
     "text": [
      "/Users/tomasstolker/applications/species/species/data/database.py:1058: UserWarning: Found 33 fluxes with NaN in the data of GPI_YJHK. Removing the spectral fluxes that contain a NaN.\n",
      "  warnings.warn(\n"
     ]
    },
    {
     "name": "stdout",
     "output_type": "stream",
     "text": [
      "Adding object: beta Pic c [DONE]\n",
      "Adding object: HIP 65426 b [DONE]\n",
      "Adding object: 51 Eri b [DONE]\n"
     ]
    },
    {
     "name": "stderr",
     "output_type": "stream",
     "text": [
      "/Users/tomasstolker/applications/species/species/data/filters.py:214: UserWarning: The minimum transmission value of Subaru/CIAO.z is smaller than zero (-1.80e-03). Wavelengths with negative transmission values will be removed.\n",
      "  warnings.warn(\n"
     ]
    },
    {
     "name": "stdout",
     "output_type": "stream",
     "text": [
      "Adding object: HR 8799 b [DONE]\n",
      "Adding object: HR 8799 c [DONE]\n",
      "Adding object: HR 8799 d [DONE]\n",
      "Adding object: HR 8799 e [DONE]\n",
      "Adding object: HD 95086 b [DONE]\n",
      "Adding object: PDS 70 b [DONE]\n",
      "Adding object: PDS 70 c [DONE]\n",
      "Adding object: 2M 1207 B [DONE]\n",
      "Adding object: AB Pic B [DONE]\n",
      "Adding object: HD 206893 B [DONE]\n",
      "Adding object: RZ Psc B [DONE]\n",
      "Adding object: GQ Lup B [DONE]\n",
      "Adding object: PZ Tel B [DONE]\n",
      "Adding object: kappa And b [DONE]\n",
      "Adding object: HD 1160 B [DONE]\n",
      "Adding object: ROXs 12 B [DONE]\n",
      "Adding object: ROXs 42 Bb [DONE]\n",
      "Adding object: GJ 504 b [DONE]\n",
      "Adding object: GU Psc b [DONE]\n",
      "Adding object: 2M0103 ABb [DONE]\n",
      "Adding object: 1RXS 1609 B [DONE]\n",
      "Adding object: GSC 06214 B [DONE]\n",
      "Adding object: HD 72946 B [DONE]\n",
      "Adding object: HIP 64892 B [DONE]\n",
      "Adding object: HD 13724 B [DONE]\n",
      "Adding object: TYC 8988 b [DONE]\n",
      "Adding object: TYC 8988 c [DONE]\n",
      "Adding object: HD 142527 B [DONE]\n",
      "Adding object: CS Cha B [DONE]\n",
      "Adding object: CT Cha B [DONE]\n",
      "Adding object: SR 12 C [DONE]\n",
      "Adding object: DH Tau B [DONE]\n",
      "Adding object: HD 4747 B [DONE]\n",
      "Adding object: HR 3549 B [DONE]\n",
      "Adding object: CHXR 73 B [DONE]\n",
      "Adding object: HD 19467 B [DONE]\n",
      "Adding object: b Cen (AB)b [DONE]\n"
     ]
    }
   ],
   "source": [
    "database.add_companion(name=None, verbose=False)"
   ]
  },
  {
   "cell_type": "markdown",
   "metadata": {},
   "source": [
    "We also add the photometry and parallaxes of the [Database of Ultracool Parallaxes](http://www.as.utexas.edu/~tdupuy/plx/Database_of_Ultracool_Parallaxes.html)."
   ]
  },
  {
   "cell_type": "code",
   "execution_count": 4,
   "metadata": {},
   "outputs": [
    {
     "name": "stdout",
     "output_type": "stream",
     "text": [
      "Downloading Database of Ultracool Parallaxes (307 kB)... [DONE]\n",
      "Adding Database of Ultracool Parallaxes... [DONE]\n"
     ]
    }
   ],
   "source": [
    "database.add_photometry('vlm-plx')"
   ]
  },
  {
   "cell_type": "markdown",
   "metadata": {},
   "source": [
    "Next, we add the isochrones from AMES-Cond and AMES-Dusty, which have been retrieved from https://phoenix.ens-lyon.fr/Grids/."
   ]
  },
  {
   "cell_type": "code",
   "execution_count": 5,
   "metadata": {},
   "outputs": [
    {
     "name": "stdout",
     "output_type": "stream",
     "text": [
      "Downloading AMES-Cond isochrones (235 kB)... [DONE]\n",
      "Adding isochrones: ames-cond... [DONE]\n",
      "Database tag: ames-cond\n",
      "Downloading AMES-Dusty isochrones (182 kB)... [DONE]\n",
      "Adding isochrones: ames-dusty... [DONE]\n",
      "Database tag: ames-dusty\n"
     ]
    }
   ],
   "source": [
    "database.add_isochrones('ames')"
   ]
  },
  {
   "cell_type": "markdown",
   "metadata": {},
   "source": [
    "Finally, we need to add the grid with AMES-Cond model spectra. The full grid of spectra is downloaded but spectra with a $T_\\mathrm{eff}$ outside the chosen `teff_range` are not added to the database."
   ]
  },
  {
   "cell_type": "code",
   "execution_count": 6,
   "metadata": {},
   "outputs": [
    {
     "name": "stdout",
     "output_type": "stream",
     "text": [
      "Downloading AMES-Cond model spectra (150 MB)... [DONE]\n",
      "Unpacking AMES-Cond model spectra (150 MB)... [DONE]\n",
      "Wavelength range (um) = 0.5 - 40\n",
      "Spectral resolution = 4000\n",
      "Teff range (K) = 100.0 - 4000.0\n",
      "Adding AMES-Cond model spectra... [DONE]                               \n",
      "Grid points stored in the database:\n",
      "   - Teff = [ 100.  200.  300.  400.  500.  600.  700.  800.  900. 1000. 1100. 1200.\n",
      " 1300. 1400. 1500. 1600. 1700. 1800. 1900. 2000. 2100. 2200. 2300. 2400.\n",
      " 2500. 2600. 2700. 2800. 2900. 3000. 3100. 3200. 3300. 3400. 3500. 3600.\n",
      " 3700. 3800. 3900. 4000.]\n",
      "   - log(g) = [2.5 3.  3.5 4.  4.5 5.  5.5]\n"
     ]
    }
   ],
   "source": [
    "database.add_model(model='ames-cond',\n",
    "                   teff_range=(100., 4000.))"
   ]
  },
  {
   "cell_type": "markdown",
   "metadata": {},
   "source": [
    "Also the AMES-Dusty spectra are downloaded and imported into the database."
   ]
  },
  {
   "cell_type": "code",
   "execution_count": 7,
   "metadata": {},
   "outputs": [
    {
     "name": "stdout",
     "output_type": "stream",
     "text": [
      "Downloading AMES-Dusty model spectra (59 MB)... [DONE]\n",
      "Unpacking AMES-Dusty model spectra (59 MB)... [DONE]\n",
      "Wavelength range (um) = 0.5 - 40\n",
      "Spectral resolution = 4000\n",
      "Teff range (K) = 100.0 - 4000.0\n",
      "Adding AMES-Dusty model spectra... [DONE]                                \n",
      "Grid points stored in the database:\n",
      "   - Teff = [ 500.  600.  700.  800.  900. 1000. 1100. 1200. 1300. 1400. 1500. 1600.\n",
      " 1700. 1800. 1900. 2000. 2100. 2200. 2300. 2400. 2500. 2600. 2700. 2800.\n",
      " 2900. 3000. 3100. 3200. 3300. 3400. 3500. 3600. 3700. 3800. 3900. 4000.]\n",
      "   - log(g) = [3.5 4.  4.5 5.  5.5 6. ]\n"
     ]
    }
   ],
   "source": [
    "database.add_model(model='ames-dusty',\n",
    "                   teff_range=(100., 4000.))"
   ]
  },
  {
   "cell_type": "markdown",
   "metadata": {},
   "source": [
    "We are now ready with preparing the HDF5 database. The [list_content](https://species.readthedocs.io/en/latest/species.data.html#species.data.database.Database.list_content) method of the [Database](https://species.readthedocs.io/en/latest/species.data.html#species.data.database.Database) object can be used for printing an overview of all the data that are stored in the database."
   ]
  },
  {
   "cell_type": "markdown",
   "metadata": {},
   "source": [
    "## Synthetic photometry from isochrones"
   ]
  },
  {
   "cell_type": "markdown",
   "metadata": {},
   "source": [
    "Magnitudes from the isochrone data can be extracted with the [get_isochrone](https://species.readthedocs.io/en/latest/species.read.html#species.read.read_isochrone.ReadIsochrone.get_isochrone) function of [ReadIsochrone](https://species.readthedocs.io/en/latest/species.read.html#species.read.read_isochrone.ReadIsochrone). However, in this example, we consistently recompute the synthetic photometry by making use of both the evolutionary tracks and the synthetic spectra."
   ]
  },
  {
   "cell_type": "markdown",
   "metadata": {},
   "source": [
    "The isochrones will be iterpolated for three different ages and the synthetic photometry is computed at 100 logarithmically-spaced masses."
   ]
  },
  {
   "cell_type": "code",
   "execution_count": 8,
   "metadata": {},
   "outputs": [],
   "source": [
    "ages = [20., 100.]  # (Myr)\n",
    "masses = np.logspace(0., 3., 100)  # (Mjup)"
   ]
  },
  {
   "cell_type": "markdown",
   "metadata": {},
   "source": [
    "We create instances of [ReadIsochrone](https://species.readthedocs.io/en/latest/species.read.html#species.read.read_isochrone.ReadIsochrone) for both the AMES-Cond and AMES-Dusty isochrones. We note though that the evolutionary data of these two models are actually the same. Only the magnitudes of the isochrones (which we do not use) are different."
   ]
  },
  {
   "cell_type": "code",
   "execution_count": 9,
   "metadata": {},
   "outputs": [],
   "source": [
    "read_iso_cond = species.ReadIsochrone(tag='ames-cond')\n",
    "read_iso_dusty = species.ReadIsochrone(tag='ames-dusty')"
   ]
  },
  {
   "cell_type": "markdown",
   "metadata": {},
   "source": [
    "The colors and magnitudes are computed by chosing the corresponding model grids from the database. The output is stored in [ColorMagBox](https://species.readthedocs.io/en/latest/species.core.html#species.core.box.ColorMagBox) objects for the three different ages."
   ]
  },
  {
   "cell_type": "code",
   "execution_count": 10,
   "metadata": {},
   "outputs": [
    {
     "name": "stderr",
     "output_type": "stream",
     "text": [
      "/Users/tomasstolker/applications/species/species/read/read_isochrone.py:326: UserWarning: The value of teff is 4018.701890028295, which is above the upper bound of the model grid (4000.0). Setting the magnitudes to NaN for the following isochrone sample: {'teff': 4018.701890028295, 'logg': 4.3520097138585845, 'mass': 932.60334688322, 'distance': 10.0}.\n",
      "  warnings.warn(\n",
      "/Users/tomasstolker/applications/species/species/read/read_isochrone.py:326: UserWarning: The value of teff is 4163.517520486652, which is above the upper bound of the model grid (4000.0). Setting the magnitudes to NaN for the following isochrone sample: {'teff': 4163.517520486652, 'logg': 4.329146850334322, 'mass': 1000.0, 'distance': 10.0}.\n",
      "  warnings.warn(\n",
      "/Users/tomasstolker/applications/species/species/read/read_isochrone.py:301: UserWarning: The value of logg is 2.917784581524866, which is below the lower bound of the model grid (3.5). Setting the magnitudes to NaN for the following isochrone sample: {'teff': 501.3728693602355, 'logg': 2.917784581524866, 'mass': 1.0, 'distance': 10.0}.\n",
      "  warnings.warn(\n",
      "/Users/tomasstolker/applications/species/species/read/read_isochrone.py:301: UserWarning: The value of logg is 2.972779343287681, which is below the lower bound of the model grid (3.5). Setting the magnitudes to NaN for the following isochrone sample: {'teff': 502.51561905255875, 'logg': 2.972779343287681, 'mass': 1.0722672220103233, 'distance': 10.0}.\n",
      "  warnings.warn(\n",
      "/Users/tomasstolker/applications/species/species/read/read_isochrone.py:301: UserWarning: The value of logg is 3.035244115774989, which is below the lower bound of the model grid (3.5). Setting the magnitudes to NaN for the following isochrone sample: {'teff': 504.9110749694396, 'logg': 3.035244115774989, 'mass': 1.1497569953977358, 'distance': 10.0}.\n",
      "  warnings.warn(\n",
      "/Users/tomasstolker/applications/species/species/read/read_isochrone.py:301: UserWarning: The value of logg is 3.1022230438434617, which is below the lower bound of the model grid (3.5). Setting the magnitudes to NaN for the following isochrone sample: {'teff': 507.4796438308816, 'logg': 3.1022230438434617, 'mass': 1.2328467394420661, 'distance': 10.0}.\n",
      "  warnings.warn(\n",
      "/Users/tomasstolker/applications/species/species/read/read_isochrone.py:301: UserWarning: The value of logg is 3.2067743991749165, which is below the lower bound of the model grid (3.5). Setting the magnitudes to NaN for the following isochrone sample: {'teff': 519.9830583907551, 'logg': 3.2067743991749165, 'mass': 1.321941148466029, 'distance': 10.0}.\n",
      "  warnings.warn(\n",
      "/Users/tomasstolker/applications/species/species/read/read_isochrone.py:301: UserWarning: The value of logg is 3.3063735241310974, which is below the lower bound of the model grid (3.5). Setting the magnitudes to NaN for the following isochrone sample: {'teff': 533.9699983677936, 'logg': 3.3063735241310974, 'mass': 1.4174741629268053, 'distance': 10.0}.\n",
      "  warnings.warn(\n",
      "/Users/tomasstolker/applications/species/species/read/read_isochrone.py:301: UserWarning: The value of logg is 3.338631698699009, which is below the lower bound of the model grid (3.5). Setting the magnitudes to NaN for the following isochrone sample: {'teff': 543.9407068706029, 'logg': 3.338631698699009, 'mass': 1.5199110829529336, 'distance': 10.0}.\n",
      "  warnings.warn(\n",
      "/Users/tomasstolker/applications/species/species/read/read_isochrone.py:301: UserWarning: The value of logg is 3.3721167739343065, which is below the lower bound of the model grid (3.5). Setting the magnitudes to NaN for the following isochrone sample: {'teff': 556.1780019724513, 'logg': 3.3721167739343065, 'mass': 1.6297508346206442, 'distance': 10.0}.\n",
      "  warnings.warn(\n",
      "/Users/tomasstolker/applications/species/species/read/read_isochrone.py:301: UserWarning: The value of logg is 3.406958013871118, which is below the lower bound of the model grid (3.5). Setting the magnitudes to NaN for the following isochrone sample: {'teff': 570.788844526598, 'logg': 3.406958013871118, 'mass': 1.7475284000076838, 'distance': 10.0}.\n",
      "  warnings.warn(\n",
      "/Users/tomasstolker/applications/species/species/read/read_isochrone.py:301: UserWarning: The value of logg is 3.444317133429558, which is below the lower bound of the model grid (3.5). Setting the magnitudes to NaN for the following isochrone sample: {'teff': 586.455572083363, 'logg': 3.444317133429558, 'mass': 1.8738174228603839, 'distance': 10.0}.\n",
      "  warnings.warn(\n",
      "/Users/tomasstolker/applications/species/species/read/read_isochrone.py:301: UserWarning: The value of logg is 3.484376092775238, which is below the lower bound of the model grid (3.5). Setting the magnitudes to NaN for the following isochrone sample: {'teff': 603.2544905186481, 'logg': 3.484376092775238, 'mass': 2.0092330025650473, 'distance': 10.0}.\n",
      "  warnings.warn(\n",
      "/Users/tomasstolker/applications/species/species/read/read_isochrone.py:326: UserWarning: The value of teff is 4080.941184987095, which is above the upper bound of the model grid (4000.0). Setting the magnitudes to NaN for the following isochrone sample: {'teff': 4080.941184987095, 'logg': 4.668039214755509, 'mass': 657.9332246575682, 'distance': 10.0}.\n",
      "  warnings.warn(\n",
      "/Users/tomasstolker/applications/species/species/read/read_isochrone.py:326: UserWarning: The value of teff is 4184.730732201826, which is above the upper bound of the model grid (4000.0). Setting the magnitudes to NaN for the following isochrone sample: {'teff': 4184.730732201826, 'logg': 4.6566960948413305, 'mass': 705.4802310718645, 'distance': 10.0}.\n",
      "  warnings.warn(\n",
      "/Users/tomasstolker/applications/species/species/read/read_isochrone.py:326: UserWarning: The value of teff is 4324.721356066847, which is above the upper bound of the model grid (4000.0). Setting the magnitudes to NaN for the following isochrone sample: {'teff': 4324.721356066847, 'logg': 4.64125318265924, 'mass': 756.463327554629, 'distance': 10.0}.\n",
      "  warnings.warn(\n",
      "/Users/tomasstolker/applications/species/species/read/read_isochrone.py:326: UserWarning: The value of teff is 4511.081667094552, which is above the upper bound of the model grid (4000.0). Setting the magnitudes to NaN for the following isochrone sample: {'teff': 4511.081667094552, 'logg': 4.6107725046114005, 'mass': 811.1308307896873, 'distance': 10.0}.\n",
      "  warnings.warn(\n",
      "/Users/tomasstolker/applications/species/species/read/read_isochrone.py:326: UserWarning: The value of teff is 4703.704854345524, which is above the upper bound of the model grid (4000.0). Setting the magnitudes to NaN for the following isochrone sample: {'teff': 4703.704854345524, 'logg': 4.572016990295442, 'mass': 869.7490026177834, 'distance': 10.0}.\n",
      "  warnings.warn(\n",
      "/Users/tomasstolker/applications/species/species/read/read_isochrone.py:326: UserWarning: The value of teff is 4914.026121931334, which is above the upper bound of the model grid (4000.0). Setting the magnitudes to NaN for the following isochrone sample: {'teff': 4914.026121931334, 'logg': 4.528038855434338, 'mass': 932.60334688322, 'distance': 10.0}.\n",
      "  warnings.warn(\n",
      "/Users/tomasstolker/applications/species/species/read/read_isochrone.py:326: UserWarning: The value of teff is 5128.711930018601, which is above the upper bound of the model grid (4000.0). Setting the magnitudes to NaN for the following isochrone sample: {'teff': 5128.711930018601, 'logg': 4.487440551002966, 'mass': 1000.0, 'distance': 10.0}.\n",
      "  warnings.warn(\n",
      "/Users/tomasstolker/applications/species/species/read/read_isochrone.py:301: UserWarning: The value of logg is 2.7961643169092065, which is below the lower bound of the model grid (3.5). Setting the magnitudes to NaN for the following isochrone sample: {'teff': 501.58228263626506, 'logg': 2.7961643169092065, 'mass': 1.0, 'distance': 10.0}.\n",
      "  warnings.warn(\n",
      "/Users/tomasstolker/applications/species/species/read/read_isochrone.py:301: UserWarning: The value of logg is 2.807202282142855, which is below the lower bound of the model grid (3.5). Setting the magnitudes to NaN for the following isochrone sample: {'teff': 501.6881276697485, 'logg': 2.807202282142855, 'mass': 1.0722672220103233, 'distance': 10.0}.\n",
      "  warnings.warn(\n",
      "/Users/tomasstolker/applications/species/species/read/read_isochrone.py:301: UserWarning: The value of logg is 2.8207367618605548, which is below the lower bound of the model grid (3.5). Setting the magnitudes to NaN for the following isochrone sample: {'teff': 501.66498143680707, 'logg': 2.8207367618605548, 'mass': 1.1497569953977358, 'distance': 10.0}.\n",
      "  warnings.warn(\n",
      "/Users/tomasstolker/applications/species/species/read/read_isochrone.py:301: UserWarning: The value of logg is 2.835249340828809, which is below the lower bound of the model grid (3.5). Setting the magnitudes to NaN for the following isochrone sample: {'teff': 501.6401624899111, 'logg': 2.835249340828809, 'mass': 1.2328467394420661, 'distance': 10.0}.\n",
      "  warnings.warn(\n",
      "/Users/tomasstolker/applications/species/species/read/read_isochrone.py:301: UserWarning: The value of logg is 2.855554520370349, which is below the lower bound of the model grid (3.5). Setting the magnitudes to NaN for the following isochrone sample: {'teff': 501.6536660458051, 'logg': 2.855554520370349, 'mass': 1.321941148466029, 'distance': 10.0}.\n",
      "  warnings.warn(\n",
      "/Users/tomasstolker/applications/species/species/read/read_isochrone.py:301: UserWarning: The value of logg is 2.8798041133905197, which is below the lower bound of the model grid (3.5). Setting the magnitudes to NaN for the following isochrone sample: {'teff': 501.6890923462297, 'logg': 2.8798041133905197, 'mass': 1.4174741629268053, 'distance': 10.0}.\n",
      "  warnings.warn(\n",
      "/Users/tomasstolker/applications/species/species/read/read_isochrone.py:301: UserWarning: The value of logg is 2.9058061571331404, which is below the lower bound of the model grid (3.5). Setting the magnitudes to NaN for the following isochrone sample: {'teff': 501.72707880697214, 'logg': 2.9058061571331404, 'mass': 1.5199110829529336, 'distance': 10.0}.\n",
      "  warnings.warn(\n",
      "/Users/tomasstolker/applications/species/species/read/read_isochrone.py:301: UserWarning: The value of logg is 2.933837016464927, which is below the lower bound of the model grid (3.5). Setting the magnitudes to NaN for the following isochrone sample: {'teff': 501.8458205253471, 'logg': 2.933837016464927, 'mass': 1.6297508346206442, 'distance': 10.0}.\n",
      "  warnings.warn(\n",
      "/Users/tomasstolker/applications/species/species/read/read_isochrone.py:301: UserWarning: The value of logg is 2.9643361277954554, which is below the lower bound of the model grid (3.5). Setting the magnitudes to NaN for the following isochrone sample: {'teff': 502.20372397743654, 'logg': 2.9643361277954554, 'mass': 1.7475284000076838, 'distance': 10.0}.\n",
      "  warnings.warn(\n",
      "/Users/tomasstolker/applications/species/species/read/read_isochrone.py:301: UserWarning: The value of logg is 3.0024737804589394, which is below the lower bound of the model grid (3.5). Setting the magnitudes to NaN for the following isochrone sample: {'teff': 503.0056049678062, 'logg': 3.0024737804589394, 'mass': 1.8738174228603839, 'distance': 10.0}.\n",
      "  warnings.warn(\n",
      "/Users/tomasstolker/applications/species/species/read/read_isochrone.py:301: UserWarning: The value of logg is 3.044216208740176, which is below the lower bound of the model grid (3.5). Setting the magnitudes to NaN for the following isochrone sample: {'teff': 503.93073039348104, 'logg': 3.044216208740176, 'mass': 2.0092330025650473, 'distance': 10.0}.\n",
      "  warnings.warn(\n",
      "/Users/tomasstolker/applications/species/species/read/read_isochrone.py:301: UserWarning: The value of logg is 3.088975246353262, which is below the lower bound of the model grid (3.5). Setting the magnitudes to NaN for the following isochrone sample: {'teff': 504.92271206368054, 'logg': 3.088975246353262, 'mass': 2.154434690031884, 'distance': 10.0}.\n",
      "  warnings.warn(\n",
      "/Users/tomasstolker/applications/species/species/read/read_isochrone.py:301: UserWarning: The value of logg is 3.1487127161744426, which is below the lower bound of the model grid (3.5). Setting the magnitudes to NaN for the following isochrone sample: {'teff': 506.11774555623947, 'logg': 3.1487127161744426, 'mass': 2.3101297000831598, 'distance': 10.0}.\n",
      "  warnings.warn(\n",
      "/Users/tomasstolker/applications/species/species/read/read_isochrone.py:301: UserWarning: The value of logg is 3.2281475586776205, which is below the lower bound of the model grid (3.5). Setting the magnitudes to NaN for the following isochrone sample: {'teff': 506.36601770555274, 'logg': 3.2281475586776205, 'mass': 2.4770763559917106, 'distance': 10.0}.\n",
      "  warnings.warn(\n",
      "/Users/tomasstolker/applications/species/species/read/read_isochrone.py:301: UserWarning: The value of logg is 3.3306644276556674, which is below the lower bound of the model grid (3.5). Setting the magnitudes to NaN for the following isochrone sample: {'teff': 505.0681954083842, 'logg': 3.3306644276556674, 'mass': 2.6560877829466865, 'distance': 10.0}.\n",
      "  warnings.warn(\n",
      "/Users/tomasstolker/applications/species/species/read/read_isochrone.py:301: UserWarning: The value of logg is 3.4405899059639538, which is below the lower bound of the model grid (3.5). Setting the magnitudes to NaN for the following isochrone sample: {'teff': 503.6765830991362, 'logg': 3.4405899059639538, 'mass': 2.848035868435802, 'distance': 10.0}.\n",
      "  warnings.warn(\n"
     ]
    }
   ],
   "source": [
    "boxes = []\n",
    "\n",
    "for item in ages:\n",
    "\n",
    "    modelcolor1 = read_iso_cond.get_color_magnitude(age=item,\n",
    "                                                    masses=masses,\n",
    "                                                    model='ames-cond',\n",
    "                                                    filters_color=('MKO/NSFCam.H', 'MKO/NSFCam.Lp'),\n",
    "                                                    filter_mag='MKO/NSFCam.Lp')\n",
    "\n",
    "    modelcolor2 = read_iso_dusty.get_color_magnitude(age=item,\n",
    "                                                     masses=masses,\n",
    "                                                     model='ames-dusty',\n",
    "                                                     filters_color=('MKO/NSFCam.H', 'MKO/NSFCam.Lp'),\n",
    "                                                     filter_mag='MKO/NSFCam.Lp')\n",
    "\n",
    "    boxes.append(modelcolor1)\n",
    "    boxes.append(modelcolor2)"
   ]
  },
  {
   "cell_type": "markdown",
   "metadata": {},
   "source": [
    "Some warnings are printed when $T_\\mathrm{eff}$ or $\\log(g)$ from the evolutionary tracks are outside the parameter boundaries of the grid with spectra. Also, some of the chosen masses are below the lowest masses that are available in the evolutionary tracks. Therefore these colors and magnitudes are set to NaN and will be ignored when plotting the isochrones later one."
   ]
  },
  {
   "cell_type": "markdown",
   "metadata": {},
   "source": [
    "## Synthetic photometry from blackbody spectra"
   ]
  },
  {
   "cell_type": "markdown",
   "metadata": {},
   "source": [
    "In addition to the isochrones, we also calculate colors and magnitudes for blackbody radiation. We start by creating an instance of [ReadPlanck](https://species.readthedocs.io/en/latest/species.read.html#species.read.read_planck.ReadPlanck) for a wavelength range between 0.5 and 10 $\\mu$m."
   ]
  },
  {
   "cell_type": "code",
   "execution_count": 11,
   "metadata": {},
   "outputs": [],
   "source": [
    "read_planck = species.ReadPlanck(wavel_range=(0.5, 10.))"
   ]
  },
  {
   "cell_type": "markdown",
   "metadata": {},
   "source": [
    "Next, we use the [get_color_magnitude](https://species.readthedocs.io/en/latest/species.read.html#species.read.read_planck.ReadPlanck.get_color_magnitude) methode to calculate the synthetic photometry for the same filters from before. Here we chose 100 logarithmically-spaced temperatures between 100 and 10000 K. The radius, which only impacts the absolute magnitude, is set to 1 $R_\\mathrm{J}$."
   ]
  },
  {
   "cell_type": "code",
   "execution_count": 12,
   "metadata": {},
   "outputs": [],
   "source": [
    "color_planck = read_planck.get_color_magnitude(temperatures=np.logspace(2, 4, 100),\n",
    "                                               radius=1.,\n",
    "                                               filters_color=('MKO/NSFCam.H', 'MKO/NSFCam.Lp'),\n",
    "                                               filter_mag='MKO/NSFCam.Lp')"
   ]
  },
  {
   "cell_type": "markdown",
   "metadata": {},
   "source": [
    "The returned [ColorMagBox](https://species.readthedocs.io/en/latest/species.core.html#species.core.box.ColorMagBox) is added to the list of `boxes`."
   ]
  },
  {
   "cell_type": "code",
   "execution_count": 13,
   "metadata": {},
   "outputs": [],
   "source": [
    "boxes.append(color_planck)"
   ]
  },
  {
   "cell_type": "markdown",
   "metadata": {},
   "source": [
    "## Photometry of directly imaged objects"
   ]
  },
  {
   "cell_type": "markdown",
   "metadata": {},
   "source": [
    "We will also create a list with names and filters of the directly imaged planets and brown dwarfs that we want to show. The [list_companions](https://species.readthedocs.io/en/latest/species.data.html#species.data.database.Database.list_companions) method of [Database](https://species.readthedocs.io/en/latest/species.data.html#species.data.database.Database) can be used to get an overview of all available photometric data in the database. We create a list with object names and filters for the colors and magnitudes that we want to include in the color-magnitude diagram."
   ]
  },
  {
   "cell_type": "code",
   "execution_count": 14,
   "metadata": {},
   "outputs": [],
   "source": [
    "objects = [('HR 8799 b', 'Keck/NIRC2.H', 'Paranal/NACO.Lp', 'Paranal/NACO.Lp'),\n",
    "           ('HR 8799 c', 'Keck/NIRC2.H', 'Paranal/NACO.Lp', 'Paranal/NACO.Lp'),\n",
    "           ('HR 8799 d', 'Keck/NIRC2.H', 'Paranal/NACO.Lp', 'Paranal/NACO.Lp'),\n",
    "           ('HR 8799 e', 'Paranal/SPHERE.IRDIS_D_H23_2', 'Paranal/NACO.Lp', 'Paranal/NACO.Lp'),\n",
    "           ('kappa And b', 'Subaru/CIAO.H', 'Keck/NIRC2.Lp', 'Keck/NIRC2.Lp'),\n",
    "           ('GSC 06214 B', 'MKO/NSFCam.H', 'MKO/NSFCam.Lp', 'MKO/NSFCam.Lp'),\n",
    "           ('ROXs 42 Bb', 'Keck/NIRC2.H', 'Keck/NIRC2.Lp', 'Keck/NIRC2.Lp'),\n",
    "           ('51 Eri b', 'MKO/NSFCam.H', 'Keck/NIRC2.Lp', 'Keck/NIRC2.Lp'),\n",
    "           ('2M 1207 B', 'Paranal/NACO.H', 'Paranal/NACO.Lp', 'Paranal/NACO.Lp'),\n",
    "           ('2M0103 ABb', 'Paranal/NACO.H', 'Paranal/NACO.Lp', 'Paranal/NACO.Lp'),\n",
    "           ('1RXS 1609 B', 'Gemini/NIRI.H-G0203w', 'Gemini/NIRI.Lprime-G0207w', 'Gemini/NIRI.Lprime-G0207w'),\n",
    "           ('beta Pic b', 'Paranal/NACO.H', 'Paranal/NACO.Lp', 'Paranal/NACO.Lp'),\n",
    "           ('HIP 65426 b', 'Paranal/SPHERE.IRDIS_D_H23_2', 'Paranal/NACO.Lp', 'Paranal/NACO.Lp'),\n",
    "           ('PZ Tel B', 'Paranal/NACO.H', 'Paranal/NACO.Lp', 'Paranal/NACO.Lp'),\n",
    "           ('HD 206893 B', 'Paranal/SPHERE.IRDIS_B_H', 'Paranal/NACO.Lp', 'Paranal/NACO.Lp')]"
   ]
  },
  {
   "cell_type": "markdown",
   "metadata": {},
   "source": [
    "## Reading color-magnitude data"
   ]
  },
  {
   "cell_type": "markdown",
   "metadata": {},
   "source": [
    "The colors and magnitude of the Database of Ultracool Parallaxes are read from the database by creating an object of [ReadColorMagnitude](https://species.readthedocs.io/en/latest/species.read.html#species.read.read_color.ReadColorMagnitude)."
   ]
  },
  {
   "cell_type": "code",
   "execution_count": 15,
   "metadata": {},
   "outputs": [],
   "source": [
    "colormag = species.ReadColorMagnitude(library='vlm-plx',\n",
    "                                      filters_color=('MKO/NSFCam.H', 'MKO/NSFCam.Lp'),\n",
    "                                      filter_mag='MKO/NSFCam.Lp')"
   ]
  },
  {
   "cell_type": "markdown",
   "metadata": {},
   "source": [
    "And then extracting the [ColorMagBox](https://species.readthedocs.io/en/latest/species.core.html#species.core.box.ColorMagBox) objects for field and young/low-gravity objects separately."
   ]
  },
  {
   "cell_type": "code",
   "execution_count": 16,
   "metadata": {},
   "outputs": [],
   "source": [
    "color_field = colormag.get_color_magnitude(object_type='field')\n",
    "color_young = colormag.get_color_magnitude(object_type='young')"
   ]
  },
  {
   "cell_type": "markdown",
   "metadata": {},
   "source": [
    "Also these [ColorMagBox](https://species.readthedocs.io/en/latest/species.core.html#species.core.box.ColorMagBox) objects are added to the list of `boxes`."
   ]
  },
  {
   "cell_type": "code",
   "execution_count": 17,
   "metadata": {},
   "outputs": [],
   "source": [
    "boxes.append(color_field)\n",
    "boxes.append(color_young)"
   ]
  },
  {
   "cell_type": "markdown",
   "metadata": {},
   "source": [
    "## Plotting a color-magnitude diagram"
   ]
  },
  {
   "cell_type": "markdown",
   "metadata": {},
   "source": [
    "The color-magnitude diagram is now plotted with the [plot_color_magnitude](https://species.readthedocs.io/en/latest/species.plot.html#species.plot.plot_color.plot_color_magnitude) function. The list with `boxes` is provided as argument of the `boxes` parameter. The list with `objects` is provided separately as argument of `objects`. See the [API documentation](https://species.readthedocs.io/en/latest/species.plot.html#species.plot.plot_color.plot_color_magnitude) of `plot_color_magnitude` for further details on the various parameters."
   ]
  },
  {
   "cell_type": "code",
   "execution_count": 18,
   "metadata": {},
   "outputs": [
    {
     "name": "stdout",
     "output_type": "stream",
     "text": [
      "Plotting color-magnitude diagram... [DONE]\n"
     ]
    },
    {
     "data": {
      "image/png": "[encoded data removed]",
      "text/plain": [
       "<Figure size 288x345.6 with 2 Axes>"
      ]
     },
     "metadata": {
      "needs_background": "light"
     },
     "output_type": "display_data"
    }
   ],
   "source": [
    "species.plot_color_magnitude(boxes=boxes,\n",
    "                             objects=objects,\n",
    "                             mass_labels={'ames-cond': [(3., 'right'), (5., 'right'), (10., 'left'), (20., 'right')],\n",
    "                                          'ames-dusty': [(10., 'right'), (15., 'left'), (20., 'left')]},\n",
    "                             teff_labels=[(1500., 'right'), (2000., 'right'), (3000., 'left')],\n",
    "                             companion_labels=False,\n",
    "                             field_range=('late M', 'late T'),\n",
    "                             label_x=r'H $-$ L$^\\prime$',\n",
    "                             label_y=r'M$_\\mathregular{L\\prime}$',\n",
    "                             xlim=(0.3, 4.),\n",
    "                             ylim=(15., 7.1),\n",
    "                             offset=(-0.08, -0.09),\n",
    "                             legend=(0.04, 0.04),\n",
    "                             output=None)"
   ]
  }
 ],
 "metadata": {
  "kernelspec": {
   "display_name": "Python 3 (ipykernel)",
   "language": "python",
   "name": "python3"
  },
  "language_info": {
   "codemirror_mode": {
    "name": "ipython",
    "version": 3
   },
   "file_extension": ".py",
   "mimetype": "text/x-python",
   "name": "python",
   "nbconvert_exporter": "python",
   "pygments_lexer": "ipython3",
   "version": "3.10.0"
  }
 },
 "nbformat": 4,
 "nbformat_minor": 2
}
